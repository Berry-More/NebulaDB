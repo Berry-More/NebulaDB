{
 "cells": [
  {
   "cell_type": "code",
   "execution_count": 95,
   "id": "4c50b828",
   "metadata": {},
   "outputs": [],
   "source": [
    "import pandas as pd\n",
    "\n",
    "from nebula3.Config import Config\n",
    "from nebula3.gclient.net import ConnectionPool"
   ]
  },
  {
   "cell_type": "markdown",
   "id": "8cf04fa9",
   "metadata": {},
   "source": [
    "# Load data"
   ]
  },
  {
   "cell_type": "code",
   "execution_count": 96,
   "id": "ec4c1e7e",
   "metadata": {},
   "outputs": [],
   "source": [
    "df = pd.read_csv('data_test.csv', sep=';')"
   ]
  },
  {
   "cell_type": "code",
   "execution_count": 97,
   "id": "d207d07b",
   "metadata": {},
   "outputs": [
    {
     "data": {
      "text/plain": [
       "9899"
      ]
     },
     "execution_count": 97,
     "metadata": {},
     "output_type": "execute_result"
    }
   ],
   "source": [
    "# get array of unique users\n",
    "users = list(set(list(df['ФИО участника события 1']) + list(df['ФИО участника события 2'])))\n",
    "unique_users = {users[i]: i for i in range(len(users))}\n",
    "len(unique_users)"
   ]
  },
  {
   "cell_type": "markdown",
   "id": "0042924c",
   "metadata": {},
   "source": [
    "# About DB\n",
    "\n",
    "### In this data base I created some objects in nebula-console:\n",
    "\n",
    "SPACE `network`\n",
    "\n",
    "TAG `user(name string)`\n",
    "\n",
    "EDGE `request(id int)`\n",
    "\n",
    "### Main idea users pull requests to another users."
   ]
  },
  {
   "cell_type": "code",
   "execution_count": 98,
   "id": "b5485b1c",
   "metadata": {},
   "outputs": [
    {
     "data": {
      "text/plain": [
       "True"
      ]
     },
     "execution_count": 98,
     "metadata": {},
     "output_type": "execute_result"
    }
   ],
   "source": [
    "# define a config\n",
    "config = Config()\n",
    "config.max_connection_pool_size = 10\n",
    "\n",
    "# init connection pool\n",
    "connection_pool = ConnectionPool()\n",
    "\n",
    "# if the given servers are ok, return true, else return false\n",
    "connection_pool.init([('127.0.0.1', 9669)], config)"
   ]
  },
  {
   "cell_type": "code",
   "execution_count": 99,
   "id": "9b9af23a",
   "metadata": {},
   "outputs": [],
   "source": [
    "# option 1 control the connection release yourself\n",
    "# get session from the pool\n",
    "session = connection_pool.get_session('root', 'nebula')\n",
    "session.execute('use network;');"
   ]
  },
  {
   "cell_type": "markdown",
   "id": "255a449f",
   "metadata": {},
   "source": [
    "### Creation process"
   ]
  },
  {
   "cell_type": "code",
   "execution_count": 100,
   "id": "807a08b2",
   "metadata": {},
   "outputs": [],
   "source": [
    "session.execute('DROP SPACE network;')\n",
    "session.execute('CREATE SPACE network(partition_num=5, replica_factor=1, vid_type=int64);')\n",
    "session.execute('USE network;');"
   ]
  },
  {
   "cell_type": "code",
   "execution_count": 101,
   "id": "6d4d478d",
   "metadata": {},
   "outputs": [],
   "source": [
    "session.execute('CREATE TAG user(name string);')\n",
    "session.execute('CREATE EDGE request(id int);');"
   ]
  },
  {
   "cell_type": "code",
   "execution_count": 102,
   "id": "b98b2f44",
   "metadata": {},
   "outputs": [],
   "source": [
    "# add users\n",
    "\n",
    "for i in unique_users:\n",
    "    message = 'INSERT VERTEX user(name) VALUES {}:(\"{}\");'.format(unique_users[i], i)\n",
    "    session.execute(message);"
   ]
  },
  {
   "cell_type": "code",
   "execution_count": 104,
   "id": "6d13cf90",
   "metadata": {},
   "outputs": [],
   "source": [
    "for i in range(len(df['id события'])):\n",
    "    message = 'INSERT EDGE request(id) VALUES {} -> {}:({})'.format(unique_users[df['ФИО участника события 1'][i]], \n",
    "                                                                    unique_users[df['ФИО участника события 2'][i]], \n",
    "                                                                    df['id события'][i])\n",
    "    session.execute(message);"
   ]
  },
  {
   "cell_type": "code",
   "execution_count": 105,
   "id": "e02a8b08",
   "metadata": {},
   "outputs": [],
   "source": [
    "session.execute('CREATE TAG INDEX IF NOT EXISTS name ON user(name(200));')\n",
    "session.execute('CREATE EDGE INDEX IF NOT EXISTS request_index on request();');"
   ]
  },
  {
   "cell_type": "code",
   "execution_count": 106,
   "id": "ed76bf07",
   "metadata": {},
   "outputs": [],
   "source": [
    "session.execute('REBUILD TAG INDEX name;')\n",
    "session.execute('REBUILD EDGE INDEX follow_index;')"
   ]
  },
  {
   "cell_type": "markdown",
   "id": "c02a9c7e",
   "metadata": {},
   "source": [
    "### Tests"
   ]
  },
  {
   "cell_type": "code",
   "execution_count": 108,
   "id": "13b83e1e",
   "metadata": {},
   "outputs": [
    {
     "data": {
      "text/plain": [
       "ResultSet(keys: ['properties(VERTEX).name'], values: [\"Петруняк Вероника Денисовна\"])"
      ]
     },
     "execution_count": 108,
     "metadata": {},
     "output_type": "execute_result"
    }
   ],
   "source": [
    "session.execute('FETCH PROP ON user 1 YIELD properties(vertex).name;')"
   ]
  },
  {
   "cell_type": "code",
   "execution_count": 10,
   "id": "1eb98e24",
   "metadata": {},
   "outputs": [
    {
     "data": {
      "text/plain": [
       "ResultSet(keys: ['v2'], values: [(7290 :user{name: \"Бордачев Никита Васильевич\"})],[(9827 :user{name: \"Ящукова Любовь Ефимовна\"})],[(2307 :user{name: \"Преображенская Кира Альбертовна\"})],[(1631 :user{name: \"Щенников Дмитрий Григорьевич\"})],[(3156 :user{name: \"Расулев Никита Петрович\"})],[(6473 :user{name: \"Чикирева Мария Романовна\"})],[(2968 :user{name: \"Гужов Глеб Данилович\"})],[(3841 :user{name: \"Вохменцев Владимир Владиславович\"})],[(793 :user{name: \"Старухин Дамир Маратович\"})],[(5446 :user{name: \"Акодес Ефим Анатольевич\"})],[(255 :user{name: \"Урманцева Евгения Олеговна\"})],[(4620 :user{name: \"Борголов Евгений Маратович\"})],[(7342 :user{name: \"Бобрецова Светлана Артемовна\"})],[(1342 :user{name: \"Толкунова Валентина Маратовна\"})],[(7640 :user{name: \"Бугаенкова Карина Аркадьевна\"})],[(9708 :user{name: \"Тяжлов Ринат Владиславович\"})],[(776 :user{name: \"Шальнова Ольга Владимировна\"})],[(7524 :user{name: \"Сарсадских Алена Геннадьевна\"})],[(55 :user{name: \"Камилов Дамир Павлович\"})],[(3450 :user{name: \"Салагаев Иван Рамилевич\"})],[(8758 :user{name: \"Бодрякова Евгения Яновна\"})],[(5625 :user{name: \"Арбачаков Филипп Андреевич\"})],[(3206 :user{name: \"Соловейчиков Олег Павлович\"})],[(4952 :user{name: \"Андриевская Марина Ринатовна\"})],[(4133 :user{name: \"Алипичев Евгений Тимурович\"})],[(3287 :user{name: \"Шовковская Наталья Николаевна\"})],[(2105 :user{name: \"Кутасов Константин Сергеевич\"})],[(921 :user{name: \"Селин Федор Ильич\"})],[(9193 :user{name: \"Камчадалов Артем Ярославович\"})],[(3318 :user{name: \"Музалевская Ангелина Федоровна\"})],[(3181 :user{name: \"Сайденов Иван Валерьевич\"})],[(3763 :user{name: \"Щурупова Алла Филипповна\"})],[(5272 :user{name: \"Айдамирова Карина Антоновна\"})],[(6630 :user{name: \"Аксанова Кристина Григорьевна\"})],[(2487 :user{name: \"Яникеев Вячеслав Русланович\"})],[(8379 :user{name: \"Ларищев Илья Александрович\"})],[(9153 :user{name: \"Соломеина Кристина Георгиевна\"})],[(1237 :user{name: \"Чечин Рамиль Константинович\"})],[(8703 :user{name: \"Нетужилова Елена Викторовна\"})],[(8024 :user{name: \"Домогаров Антон Максимович\"})],[(4823 :user{name: \"Дудыкина Мария Романовна\"})],[(2009 :user{name: \"Думлер Людмила Вячеславовна\"})],[(6374 :user{name: \"Ковшов Глеб Германович\"})],[(4317 :user{name: \"Непомнящих Илья Дамирович\"})],[(198 :user{name: \"Бекрева Виктория Яковлевна\"})],[(4078 :user{name: \"Близняков Иван Артемович\"})],[(3473 :user{name: \"Жубанов Анатолий Иванович\"})],[(3570 :user{name: \"Белогорлов Дамир Кириллович\"})],[(8435 :user{name: \"Абаренов Ильдар Робертович\"})])"
      ]
     },
     "execution_count": 10,
     "metadata": {},
     "output_type": "execute_result"
    }
   ],
   "source": [
    "session.execute('match (v:user{name: \"Ахромеева Алина Ивановна\"})-->(v2) return v2')"
   ]
  },
  {
   "cell_type": "code",
   "execution_count": 107,
   "id": "21beb620",
   "metadata": {},
   "outputs": [
    {
     "data": {
      "text/plain": [
       "ResultSet(keys: ['v1', 'v2'], values: [\"Яшник Гульнара Витальевна\", \"Касько Альбина Маратовна\"],[\"Ясинская Яна Борисовна\", \"Григоревский Никита Иванович\"],[\"Ярмольник Гульнара Александровна\", \"Дорошевич Аркадий Робертович\"],[\"Яночка Римма Артуровна\", \"Савоничев Петр Вадимович\"],[\"Ямнова Татьяна Михаиловна\", \"Носенкова Жанна Денисовна\"],[\"Юхтин Валентин Ярославович\", \"Хаджаева Альбина Юрьевна\"],[\"Юхина Анна Владимировна\", \"Вейцман Вероника Эдуардовна\"],[\"Юхиева Кристина Филипповна\", \"Иванко Раиса Степановна\"],[\"Юрмегова Мария Руслановна\", \"Чепик Данил Рамилевич\"],[\"Юринская Елизавета Никитовна\", \"Башаев Алексей Никитович\"])"
      ]
     },
     "execution_count": 107,
     "metadata": {},
     "output_type": "execute_result"
    }
   ],
   "source": [
    "session.execute('match (v1:user)-->(v2:user) return v1.user.name as v1, v2.user.name as v2 limit 10;')"
   ]
  },
  {
   "cell_type": "markdown",
   "id": "73a8b184",
   "metadata": {},
   "source": [
    "### Disconnection"
   ]
  },
  {
   "cell_type": "code",
   "execution_count": 20,
   "id": "b71809f6",
   "metadata": {},
   "outputs": [],
   "source": [
    "# release session\n",
    "session.release()\n",
    "\n",
    "# close the pool\n",
    "connection_pool.close()"
   ]
  },
  {
   "cell_type": "code",
   "execution_count": null,
   "id": "d44c521c",
   "metadata": {},
   "outputs": [],
   "source": []
  }
 ],
 "metadata": {
  "kernelspec": {
   "display_name": "Python 3 (ipykernel)",
   "language": "python",
   "name": "python3"
  },
  "language_info": {
   "codemirror_mode": {
    "name": "ipython",
    "version": 3
   },
   "file_extension": ".py",
   "mimetype": "text/x-python",
   "name": "python",
   "nbconvert_exporter": "python",
   "pygments_lexer": "ipython3",
   "version": "3.10.6"
  }
 },
 "nbformat": 4,
 "nbformat_minor": 5
}
